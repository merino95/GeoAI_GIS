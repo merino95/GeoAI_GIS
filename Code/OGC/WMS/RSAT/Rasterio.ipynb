{
 "cells": [
  {
   "cell_type": "code",
   "execution_count": 1,
   "metadata": {},
   "outputs": [],
   "source": [
    "import rasterio as rio\n",
    "from matplotlib import pyplot\n",
    "\n",
    "path = 'images'\n",
    "b4 = rio.open(str(path)+'/B04_10m.tif') # Banda roja\n",
    "b3 = rio.open(path+'/B03_10m.tif') # Banda verde\n",
    "b2 = rio.open(path+'/B02_10m.tif') # Banda azul"
   ]
  },
  {
   "cell_type": "code",
   "execution_count": 2,
   "metadata": {},
   "outputs": [],
   "source": [
    "with rio.open('RGB_Arga.png', 'w', driver = 'Gtiff', width = b4.width, height = b4.height, count = 3, crs = 'EPSG:32630', transform = b4.transform, dtype = b4.dtypes[0]) as rgb:\n",
    "    rgb.write(b2.read(1),1)\n",
    "    rgb.write(b3.read(1),2)\n",
    "    rgb.write(b4.read(1),3)\n",
    "    rgb.close()"
   ]
  }
 ],
 "metadata": {
  "kernelspec": {
   "display_name": "Python 3.9.12 ('geo_env')",
   "language": "python",
   "name": "python3"
  },
  "language_info": {
   "codemirror_mode": {
    "name": "ipython",
    "version": 3
   },
   "file_extension": ".py",
   "mimetype": "text/x-python",
   "name": "python",
   "nbconvert_exporter": "python",
   "pygments_lexer": "ipython3",
   "version": "3.9.12"
  },
  "orig_nbformat": 4,
  "vscode": {
   "interpreter": {
    "hash": "79529d70a0d0e4549099c7ebe6ea6eaf88f4aa37355c2d165c6a2461593af63f"
   }
  }
 },
 "nbformat": 4,
 "nbformat_minor": 2
}
